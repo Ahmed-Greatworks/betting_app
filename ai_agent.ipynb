{
 "cells": [
  {
   "cell_type": "markdown",
   "id": "1f9663e0-5ede-414d-8378-2241c9a669a6",
   "metadata": {},
   "source": [
    "### SECTION 1: Data Loading & Preprocessing"
   ]
  },
  {
   "cell_type": "code",
   "execution_count": 1,
   "id": "8d3ba4e7-3e86-490e-90c9-17189f0a4093",
   "metadata": {},
   "outputs": [],
   "source": [
    "import pandas as pd\n",
    "import numpy as np\n",
    "import joblib\n",
    "\n",
    "# Load data\n",
    "df = pd.read_csv(\"https://www.football-data.co.uk/mmz4281/2324/E0.csv\")\n",
    "df = df[['Date', 'HomeTeam', 'AwayTeam', 'FTHG', 'FTAG', 'FTR', 'B365H', 'B365D', 'B365A']].dropna()\n",
    "df['Date'] = pd.to_datetime(df['Date'], dayfirst=True)\n",
    "\n",
    "# Encode match results\n",
    "result_map = {'H': 0, 'D': 1, 'A': 2}\n",
    "df['Result'] = df['FTR'].map(result_map)\n",
    "\n",
    "# Compute implied probabilities\n",
    "df['Imp_H'] = 1 / df['B365H']\n",
    "df['Imp_D'] = 1 / df['B365D']\n",
    "df['Imp_A'] = 1 / df['B365A']\n",
    "\n",
    "total_imp = df['Imp_H'] + df['Imp_D'] + df['Imp_A']\n",
    "df['Norm_H'] = df['Imp_H'] / total_imp\n",
    "df['Norm_D'] = df['Imp_D'] / total_imp\n",
    "df['Norm_A'] = df['Imp_A'] / total_imp\n",
    "\n",
    "# Odds Ratios\n",
    "df['H_A_ratio'] = df['B365H'] / df['B365A']\n",
    "df['D_A_ratio'] = df['B365D'] / df['B365A']\n",
    "df['H_D_ratio'] = df['B365H'] / df['B365D']\n",
    "df['Odds_Spread'] = df[['B365H', 'B365D', 'B365A']].max(axis=1) - df[['B365H', 'B365D', 'B365A']].min(axis=1)\n",
    "\n",
    "# Sort and split\n",
    "df = df.sort_values('Date').reset_index(drop=True)\n",
    "split_date = df['Date'].quantile(0.75)\n",
    "df_train = df[df['Date'] <= split_date].copy()\n",
    "df_test = df[df['Date'] > split_date].copy()"
   ]
  },
  {
   "cell_type": "markdown",
   "id": "9a9ba007-9471-457c-8fec-a20ddc3d007e",
   "metadata": {},
   "source": [
    "### SECTION 2: Feature Engineering (Win Rates Only)"
   ]
  },
  {
   "cell_type": "code",
   "execution_count": 2,
   "id": "c7c0c983-422e-4bea-93e7-d2759e74c02b",
   "metadata": {},
   "outputs": [],
   "source": [
    "# Rolling win rates only (leak-free)\n",
    "def compute_team_stats(df):\n",
    "    df['HomeWin'] = (df['Result'] == 0).astype(int)\n",
    "    df['AwayWin'] = (df['Result'] == 2).astype(int)\n",
    "\n",
    "    df['HomeTeamWinRate'] = df.groupby('HomeTeam')['HomeWin'].transform(lambda x: x.shift().rolling(5, min_periods=1).mean())\n",
    "    df['AwayTeamWinRate'] = df.groupby('AwayTeam')['AwayWin'].transform(lambda x: x.shift().rolling(5, min_periods=1).mean())\n",
    "\n",
    "    return df\n",
    "\n",
    "# Apply to full dataset\n",
    "df = compute_team_stats(df)"
   ]
  },
  {
   "cell_type": "markdown",
   "id": "48419bbc-a596-47ce-bec2-7b97e1ea8ee4",
   "metadata": {},
   "source": [
    "### SECTION 3: Recent Form Features"
   ]
  },
  {
   "cell_type": "code",
   "execution_count": 3,
   "id": "09ab29f7-b111-41ff-90e5-3b14fa2ee73d",
   "metadata": {},
   "outputs": [
    {
     "name": "stdout",
     "output_type": "stream",
     "text": [
      "\n",
      "⏳ Calculating recent form features...\n"
     ]
    }
   ],
   "source": [
    "# Helper to compute recent form (number of wins in last 5 matches)\n",
    "def compute_recent_form(df, team_col, result_col, target_value):\n",
    "    recent_form = []\n",
    "    for i in range(len(df)):\n",
    "        team = df.iloc[i][team_col]\n",
    "        match_date = df.iloc[i]['Date']\n",
    "        past_matches = df[(df[team_col] == team) & (df['Date'] < match_date)]\n",
    "        recent_results = past_matches[result_col].tail(5)\n",
    "        recent_wins = (recent_results == target_value).sum()\n",
    "        recent_form.append(recent_wins / 5)\n",
    "    return recent_form\n",
    "\n",
    "# Apply to compute form\n",
    "print(\"\\n⏳ Calculating recent form features...\")\n",
    "df['HomeRecentForm'] = compute_recent_form(df, 'HomeTeam', 'Result', 0)\n",
    "df['AwayRecentForm'] = compute_recent_form(df, 'AwayTeam', 'Result', 2)\n",
    "df['RecentForm'] = df['HomeRecentForm'] - df['AwayRecentForm']"
   ]
  },
  {
   "cell_type": "markdown",
   "id": "d56410df-42cf-47a0-a3e2-41a6314e2ff4",
   "metadata": {},
   "source": [
    "### SECTION 3B: Re-split After Feature Engineering"
   ]
  },
  {
   "cell_type": "code",
   "execution_count": 4,
   "id": "4202df1c-55d3-41d3-abff-e25916d9fb48",
   "metadata": {},
   "outputs": [],
   "source": [
    "# Re-split after adding engineered features\n",
    "split_date = df['Date'].quantile(0.75)\n",
    "df_train = df[df['Date'] <= split_date].copy()\n",
    "df_test = df[df['Date'] > split_date].copy()"
   ]
  },
  {
   "cell_type": "markdown",
   "id": "eec41ec0-3537-4b80-ac21-b3bd8d924bc3",
   "metadata": {},
   "source": [
    "### SECTION 4: Logistic Regression Model"
   ]
  },
  {
   "cell_type": "code",
   "execution_count": 5,
   "id": "a0132f6c-d69c-4d6e-9179-c65b5c14919f",
   "metadata": {},
   "outputs": [],
   "source": [
    "from sklearn.linear_model import LogisticRegression\n",
    "from sklearn.impute import SimpleImputer\n",
    "from sklearn.metrics import classification_report, accuracy_score\n",
    "\n",
    "features = [\n",
    "    'Norm_H', 'Norm_D', 'Norm_A', 'H_A_ratio', 'D_A_ratio', 'H_D_ratio',\n",
    "    'Odds_Spread', 'HomeTeamWinRate', 'AwayTeamWinRate',\n",
    "    'RecentForm', 'HomeRecentForm', 'AwayRecentForm'\n",
    "]\n",
    "\n",
    "X_train = df_train[features]\n",
    "y_train = df_train['Result']\n",
    "X_test = df_test[features]\n",
    "y_test = df_test['Result']\n",
    "\n",
    "imputer = SimpleImputer(strategy=\"mean\")\n",
    "X_train = imputer.fit_transform(X_train)\n",
    "X_test = imputer.transform(X_test)\n",
    "\n",
    "model_lr = LogisticRegression(max_iter=1000)\n",
    "model_lr.fit(X_train, y_train)\n",
    "preds_lr = model_lr.predict(X_test)"
   ]
  },
  {
   "cell_type": "markdown",
   "id": "10abe74c-a1ef-44fa-aa3f-4e74eaaf9303",
   "metadata": {},
   "source": [
    "### SECTION 5: Random Forest Model (Tuned)"
   ]
  },
  {
   "cell_type": "code",
   "execution_count": 6,
   "id": "78f02147-8601-4bf4-b13b-1536e21b0506",
   "metadata": {},
   "outputs": [
    {
     "data": {
      "text/plain": [
       "['random_forest_model.joblib']"
      ]
     },
     "execution_count": 6,
     "metadata": {},
     "output_type": "execute_result"
    }
   ],
   "source": [
    "from sklearn.ensemble import RandomForestClassifier\n",
    "\n",
    "model_rf = RandomForestClassifier(\n",
    "    n_estimators=500,\n",
    "    max_depth=15,\n",
    "    min_samples_split=4,\n",
    "    min_samples_leaf=1,\n",
    "    class_weight='balanced_subsample',\n",
    "    random_state=42\n",
    ")\n",
    "model_rf.fit(X_train, y_train)\n",
    "preds_rf = model_rf.predict(X_test)\n",
    "\n",
    "# Save model\n",
    "joblib.dump(model_rf, \"random_forest_model.joblib\")"
   ]
  },
  {
   "cell_type": "markdown",
   "id": "cabbd461-c8b7-4eec-9d98-7c5e986f5d19",
   "metadata": {},
   "source": [
    "### SECTION 6: XGBoost Model"
   ]
  },
  {
   "cell_type": "code",
   "execution_count": 7,
   "id": "196ad98b-76e2-4091-a468-bc6df003da06",
   "metadata": {},
   "outputs": [],
   "source": [
    "from xgboost import XGBClassifier\n",
    "\n",
    "model_xgb = XGBClassifier(eval_metric='mlogloss')\n",
    "model_xgb.fit(X_train, y_train)\n",
    "preds_xgb = model_xgb.predict(X_test)"
   ]
  },
  {
   "cell_type": "markdown",
   "id": "64fbe19f-c445-4e81-8108-486dd7a0c467",
   "metadata": {},
   "source": [
    "### SECTION 7: EV & Confidence-Based Betting Simulation + Logging"
   ]
  },
  {
   "cell_type": "code",
   "execution_count": 8,
   "id": "ebca4688-55db-449c-91b6-c11118f10596",
   "metadata": {},
   "outputs": [],
   "source": [
    "from sklearn.calibration import CalibratedClassifierCV\n",
    "\n",
    "models = {\n",
    "    \"Logistic Regression\": model_lr,\n",
    "    \"Random Forest\": model_rf,\n",
    "    \"XGBoost\": model_xgb\n",
    "}\n",
    "\n",
    "model_stats = {}\n",
    "betting_log = []\n",
    "\n",
    "for name, base_model in models.items():\n",
    "    model = CalibratedClassifierCV(base_model, cv=3)\n",
    "    model.fit(X_train, y_train)\n",
    "    probs = model.predict_proba(X_test)\n",
    "    preds = np.argmax(probs, axis=1)\n",
    "\n",
    "    confident_bets = 0\n",
    "    total_profit = 0\n",
    "    ev_threshold = 0.05\n",
    "    confidence_threshold = 0.5\n",
    "\n",
    "    for i in range(len(probs)):\n",
    "        evs = []\n",
    "        for j in range(3):\n",
    "            prob = probs[i][j]\n",
    "            odd = df_test.iloc[i][['B365H', 'B365D', 'B365A']].iloc[j]\n",
    "            ev = prob * (odd - 1) - (1 - prob)\n",
    "            evs.append(ev)\n",
    "\n",
    "        best_outcome = np.argmax(evs)\n",
    "        confidence = probs[i][best_outcome]\n",
    "\n",
    "        if evs[best_outcome] >= ev_threshold and confidence >= confidence_threshold:\n",
    "            confident_bets += 1\n",
    "            profit = df_test.iloc[i][['B365H', 'B365D', 'B365A']].iloc[best_outcome] - 1 if best_outcome == y_test.iloc[i] else -1\n",
    "            total_profit += profit\n",
    "            betting_log.append({\n",
    "                \"Match\": f\"{df_test.iloc[i]['HomeTeam']} vs {df_test.iloc[i]['AwayTeam']}\",\n",
    "                \"Model\": name,\n",
    "                \"Bet\": [\"H\", \"D\", \"A\"][best_outcome],\n",
    "                \"Confidence\": round(confidence, 2),\n",
    "                \"Profit\": profit\n",
    "            })\n",
    "\n",
    "    acc = accuracy_score(y_test, preds)\n",
    "    model_stats[name] = {\n",
    "        \"Accuracy\": round(acc, 4),\n",
    "        \"Total Profit\": round(total_profit, 2),\n",
    "        \"Bets\": confident_bets\n",
    "    }"
   ]
  },
  {
   "cell_type": "markdown",
   "id": "f95baa8e-71fb-4317-8de5-a489998592b1",
   "metadata": {},
   "source": [
    "### SECTION 8: Data Leakage Audit"
   ]
  },
  {
   "cell_type": "code",
   "execution_count": 9,
   "id": "a4941d1a-98f8-4f40-8083-5513e5a60d8b",
   "metadata": {},
   "outputs": [
    {
     "name": "stdout",
     "output_type": "stream",
     "text": [
      "\n",
      "🔍 Data Leakage Audit\n",
      "Norm_H: ✅ Derived from pre-match odds\n",
      "Norm_D: ✅ Derived from pre-match odds\n",
      "Norm_A: ✅ Derived from pre-match odds\n",
      "H_A_ratio: ✅ Derived from pre-match odds\n",
      "D_A_ratio: ✅ Derived from pre-match odds\n",
      "H_D_ratio: ✅ Derived from pre-match odds\n",
      "Odds_Spread: ✅ Derived from pre-match odds\n",
      "HomeTeamWinRate: ✅ Computed from past rolling window\n",
      "AwayTeamWinRate: ✅ Computed from past rolling window\n",
      "RecentForm: ✅ Computed from past matches only\n",
      "HomeRecentForm: ✅ Computed from past matches only\n",
      "AwayRecentForm: ✅ Computed from past matches only\n",
      "\n",
      "📅 Split Check\n",
      "Training Max Date: 2024-03-30 00:00:00\n",
      "Testing Min Date : 2024-03-31 00:00:00\n",
      "✅ Time-aware split confirmed. No overlap.\n"
     ]
    }
   ],
   "source": [
    "print(\"\\n🔍 Data Leakage Audit\")\n",
    "leakage_checks = {\n",
    "    \"Norm_H\": \"✅ Derived from pre-match odds\",\n",
    "    \"Norm_D\": \"✅ Derived from pre-match odds\",\n",
    "    \"Norm_A\": \"✅ Derived from pre-match odds\",\n",
    "    \"H_A_ratio\": \"✅ Derived from pre-match odds\",\n",
    "    \"D_A_ratio\": \"✅ Derived from pre-match odds\",\n",
    "    \"H_D_ratio\": \"✅ Derived from pre-match odds\",\n",
    "    \"Odds_Spread\": \"✅ Derived from pre-match odds\",\n",
    "    \"HomeTeamWinRate\": \"✅ Computed from past rolling window\",\n",
    "    \"AwayTeamWinRate\": \"✅ Computed from past rolling window\",\n",
    "    \"RecentForm\": \"✅ Computed from past matches only\",\n",
    "    \"HomeRecentForm\": \"✅ Computed from past matches only\",\n",
    "    \"AwayRecentForm\": \"✅ Computed from past matches only\"\n",
    "}\n",
    "\n",
    "for feature, status in leakage_checks.items():\n",
    "    print(f\"{feature}: {status}\")\n",
    "\n",
    "print(\"\\n📅 Split Check\")\n",
    "print(f\"Training Max Date: {df_train['Date'].max()}\")\n",
    "print(f\"Testing Min Date : {df_test['Date'].min()}\")\n",
    "if df_train['Date'].max() < df_test['Date'].min():\n",
    "    print(\"✅ Time-aware split confirmed. No overlap.\")\n",
    "else:\n",
    "    print(\"❌ Warning: Potential time leakage due to date overlap.\")"
   ]
  },
  {
   "cell_type": "markdown",
   "id": "5ed4ce1b-d898-4c34-9380-0848431ddd97",
   "metadata": {},
   "source": [
    "### SECTION 9: Model Comparison Summary and Visualization"
   ]
  },
  {
   "cell_type": "code",
   "execution_count": 10,
   "id": "a001a482-1662-4fd8-9f47-6913571a2f8d",
   "metadata": {},
   "outputs": [
    {
     "name": "stdout",
     "output_type": "stream",
     "text": [
      "\n",
      "📊 Model Comparison Summary\n",
      "\n",
      "🔹 Logistic Regression\n",
      "   - Accuracy: 0.6629\n",
      "   - Total Profit: -1.0\n",
      "   - Confident Bets Placed: 3\n",
      "   - Avg Profit per Bet (ROI): -0.33\n",
      "\n",
      "🔹 Random Forest\n",
      "   - Accuracy: 0.5506\n",
      "   - Total Profit: 1.25\n",
      "   - Confident Bets Placed: 12\n",
      "   - Avg Profit per Bet (ROI): 0.10\n",
      "\n",
      "🔹 XGBoost\n",
      "   - Accuracy: 0.5281\n",
      "   - Total Profit: -2.5\n",
      "   - Confident Bets Placed: 8\n",
      "   - Avg Profit per Bet (ROI): -0.31\n"
     ]
    },
    {
     "data": {
      "image/png": "[encoded data removed]",
      "text/plain": [
       "<Figure size 1200x400 with 3 Axes>"
      ]
     },
     "metadata": {},
     "output_type": "display_data"
    }
   ],
   "source": [
    "import matplotlib.pyplot as plt\n",
    "\n",
    "print(\"\\n📊 Model Comparison Summary\")\n",
    "\n",
    "for model, stats in model_stats.items():\n",
    "    roi = stats[\"Total Profit\"] / stats[\"Bets\"] if stats[\"Bets\"] else 0\n",
    "    print(f\"\\n🔹 {model}\")\n",
    "    print(f\"   - Accuracy: {stats['Accuracy']}\")\n",
    "    print(f\"   - Total Profit: {stats['Total Profit']}\")\n",
    "    print(f\"   - Confident Bets Placed: {stats['Bets']}\")\n",
    "    print(f\"   - Avg Profit per Bet (ROI): {roi:.2f}\")\n",
    "\n",
    "models = list(model_stats.keys())\n",
    "accuracies = [model_stats[m][\"Accuracy\"] for m in models]\n",
    "profits = [model_stats[m][\"Total Profit\"] for m in models]\n",
    "roi_values = [model_stats[m][\"Total Profit\"] / model_stats[m][\"Bets\"] if model_stats[m][\"Bets\"] else 0 for m in models]\n",
    "\n",
    "plt.figure(figsize=(12, 4))\n",
    "\n",
    "plt.subplot(1, 3, 1)\n",
    "plt.bar(models, accuracies, color='skyblue')\n",
    "plt.title(\"Accuracy by Model\")\n",
    "plt.ylim(0.5, 0.65)\n",
    "\n",
    "plt.subplot(1, 3, 2)\n",
    "plt.bar(models, profits, color='lightgreen')\n",
    "plt.title(\"Total Profit by Model\")\n",
    "\n",
    "plt.subplot(1, 3, 3)\n",
    "plt.bar(models, roi_values, color='salmon')\n",
    "plt.title(\"ROI (Profit per Bet)\")\n",
    "\n",
    "plt.tight_layout()\n",
    "plt.show()"
   ]
  },
  {
   "cell_type": "code",
   "execution_count": null,
   "id": "7f7a93e2-ca23-45b7-9156-7fc2a8974344",
   "metadata": {},
   "outputs": [],
   "source": []
  }
 ],
 "metadata": {
  "kernelspec": {
   "display_name": "Python 3 (ipykernel)",
   "language": "python",
   "name": "python3"
  },
  "language_info": {
   "codemirror_mode": {
    "name": "ipython",
    "version": 3
   },
   "file_extension": ".py",
   "mimetype": "text/x-python",
   "name": "python",
   "nbconvert_exporter": "python",
   "pygments_lexer": "ipython3",
   "version": "3.13.2"
  }
 },
 "nbformat": 4,
 "nbformat_minor": 5
}
